{
 "cells": [
  {
   "cell_type": "markdown",
   "id": "43677910-26cf-48db-8804-a1fb506068ec",
   "metadata": {},
   "source": [
    "# My new project"
   ]
  },
  {
   "cell_type": "code",
   "execution_count": 1,
   "id": "6183d91e-f5b6-4ac6-89cc-0e481a98fc2d",
   "metadata": {},
   "outputs": [
    {
     "data": {
      "text/plain": [
       "'Hello World'"
      ]
     },
     "execution_count": 1,
     "metadata": {},
     "output_type": "execute_result"
    }
   ],
   "source": [
    "'Hello World'"
   ]
  },
  {
   "cell_type": "code",
   "execution_count": 2,
   "id": "93a29edc-0831-4ab2-b2d2-b8846717dfa5",
   "metadata": {},
   "outputs": [
    {
     "data": {
      "text/plain": [
       "8.0"
      ]
     },
     "execution_count": 2,
     "metadata": {},
     "output_type": "execute_result"
    }
   ],
   "source": [
    "4*4/2"
   ]
  },
  {
   "cell_type": "code",
   "execution_count": null,
   "id": "64995740-8165-4c0c-90cf-b2e5a500f7e4",
   "metadata": {},
   "outputs": [],
   "source": []
  }
 ],
 "metadata": {
  "kernelspec": {
   "display_name": "Python 3 (ipykernel)",
   "language": "python",
   "name": "python3"
  },
  "language_info": {
   "codemirror_mode": {
    "name": "ipython",
    "version": 3
   },
   "file_extension": ".py",
   "mimetype": "text/x-python",
   "name": "python",
   "nbconvert_exporter": "python",
   "pygments_lexer": "ipython3",
   "version": "3.12.8"
  }
 },
 "nbformat": 4,
 "nbformat_minor": 5
}
